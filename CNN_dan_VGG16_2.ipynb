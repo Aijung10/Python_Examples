{
  "cells": [
    {
      "cell_type": "markdown",
      "metadata": {
        "id": "view-in-github",
        "colab_type": "text"
      },
      "source": [
        "<a href=\"https://colab.research.google.com/github/Aijung10/Python_Examples/blob/master/CNN_dan_VGG16_2.ipynb\" target=\"_parent\"><img src=\"https://colab.research.google.com/assets/colab-badge.svg\" alt=\"Open In Colab\"/></a>"
      ]
    },
    {
      "cell_type": "code",
      "execution_count": null,
      "metadata": {
        "id": "MdyCrJQvQeEU",
        "colab": {
          "base_uri": "https://localhost:8080/"
        },
        "outputId": "181cd9f4-9844-49c0-c932-5f253c10b53f"
      },
      "outputs": [
        {
          "output_type": "stream",
          "name": "stdout",
          "text": [
            "Mounted at /content/drive/\n"
          ]
        }
      ],
      "source": [
        "from google.colab import drive\n",
        "import os\n",
        "drive.mount('/content/drive/')"
      ]
    },
    {
      "cell_type": "code",
      "execution_count": null,
      "metadata": {
        "id": "ZJl8gCNIQeEV"
      },
      "outputs": [],
      "source": [
        "import tensorflow as tf\n",
        "from tensorflow import keras\n",
        "from keras.models import Model\n",
        "from keras.layers import Dense, Flatten, Dropout, BatchNormalization, DepthwiseConv2D\n",
        "from keras.optimizers import Adam\n",
        "from keras.preprocessing.image import ImageDataGenerator\n",
        "\n",
        "import time\n",
        "import matplotlib.pyplot as plt\n",
        "import warnings\n",
        "warnings.filterwarnings('ignore')\n"
      ]
    },
    {
      "cell_type": "code",
      "execution_count": null,
      "metadata": {
        "id": "EBaCEdrZQeEX"
      },
      "outputs": [],
      "source": [
        "train_datagen = ImageDataGenerator(rescale=1./255)\n",
        "\n",
        "eval_datagen = ImageDataGenerator(rescale=1./255)\n",
        "\n",
        "test_datagen = ImageDataGenerator(rescale=1./255)"
      ]
    },
    {
      "cell_type": "code",
      "execution_count": null,
      "metadata": {
        "id": "Sd_W2oQhQeEX",
        "colab": {
          "base_uri": "https://localhost:8080/"
        },
        "outputId": "c586840e-fe1c-40c1-aa7c-26cdcae42b06"
      },
      "outputs": [
        {
          "output_type": "stream",
          "name": "stdout",
          "text": [
            "Found 140 images belonging to 2 classes.\n",
            "Found 40 images belonging to 2 classes.\n",
            "Found 20 images belonging to 2 classes.\n"
          ]
        }
      ],
      "source": [
        "train_batch = train_datagen.flow_from_directory('/content/drive/My Drive/Datafix/Latih',\n",
        "                                                 target_size = (224, 224), # should be same as the initialized one\n",
        "                                                 batch_size = 32,\n",
        "                                                 class_mode = 'binary')\n",
        "\n",
        "val_batch = eval_datagen.flow_from_directory('/content/drive/My Drive/Datafix/Val',\n",
        "                                                 target_size = (224, 224),\n",
        "                                                 batch_size = 32,\n",
        "                                                 class_mode = 'binary')\n",
        "\n",
        "test_batch = test_datagen.flow_from_directory('/content/drive/My Drive/Datafix/Uji',\n",
        "                                                 target_size = (224, 224),\n",
        "                                                 batch_size = 32,\n",
        "                                                 class_mode = 'binary')"
      ]
    },
    {
      "cell_type": "code",
      "execution_count": null,
      "metadata": {
        "id": "M_cW4_9gQeEZ"
      },
      "outputs": [],
      "source": [
        "cnn = tf.keras.models.Sequential([\n",
        "    tf.keras.layers.Conv2D(32, (3,3), activation='relu', input_shape=(224, 224, 3)),\n",
        "    tf.keras.layers.Conv2D(32, (3,3), activation='relu', padding='same'),\n",
        "    tf.keras.layers.MaxPooling2D(2, 2),\n",
        "    \n",
        "    tf.keras.layers.Conv2D(64, (3,3), activation='relu', padding='same'),\n",
        "    tf.keras.layers.MaxPooling2D(2,2),\n",
        "\n",
        "    tf.keras.layers.Conv2D(128, (3,3), activation='relu', padding='same'),\n",
        "    tf.keras.layers.MaxPooling2D(2,2),\n",
        "\n",
        "    tf.keras.layers.Conv2D(256, (3,3), activation='relu', padding='same'),\n",
        "    tf.keras.layers.MaxPooling2D(2,2),\n",
        "\n",
        "    tf.keras.layers.Conv2D(512, (3,3), activation='relu', padding='same'),\n",
        "    tf.keras.layers.MaxPooling2D(2,2)])"
      ]
    },
    {
      "cell_type": "code",
      "execution_count": null,
      "metadata": {
        "id": "FQy0l-JxQeEa",
        "colab": {
          "base_uri": "https://localhost:8080/"
        },
        "outputId": "ebf5e3d6-e7fa-47bf-ddbb-a06316307790"
      },
      "outputs": [
        {
          "output_type": "stream",
          "name": "stdout",
          "text": [
            "Model: \"sequential\"\n",
            "_________________________________________________________________\n",
            " Layer (type)                Output Shape              Param #   \n",
            "=================================================================\n",
            " conv2d (Conv2D)             (None, 222, 222, 32)      896       \n",
            "                                                                 \n",
            " conv2d_1 (Conv2D)           (None, 222, 222, 32)      9248      \n",
            "                                                                 \n",
            " max_pooling2d (MaxPooling2D  (None, 111, 111, 32)     0         \n",
            " )                                                               \n",
            "                                                                 \n",
            " conv2d_2 (Conv2D)           (None, 111, 111, 64)      18496     \n",
            "                                                                 \n",
            " max_pooling2d_1 (MaxPooling  (None, 55, 55, 64)       0         \n",
            " 2D)                                                             \n",
            "                                                                 \n",
            " conv2d_3 (Conv2D)           (None, 55, 55, 128)       73856     \n",
            "                                                                 \n",
            " max_pooling2d_2 (MaxPooling  (None, 27, 27, 128)      0         \n",
            " 2D)                                                             \n",
            "                                                                 \n",
            " conv2d_4 (Conv2D)           (None, 27, 27, 256)       295168    \n",
            "                                                                 \n",
            " max_pooling2d_3 (MaxPooling  (None, 13, 13, 256)      0         \n",
            " 2D)                                                             \n",
            "                                                                 \n",
            " conv2d_5 (Conv2D)           (None, 13, 13, 512)       1180160   \n",
            "                                                                 \n",
            " max_pooling2d_4 (MaxPooling  (None, 6, 6, 512)        0         \n",
            " 2D)                                                             \n",
            "                                                                 \n",
            "=================================================================\n",
            "Total params: 1,577,824\n",
            "Trainable params: 1,577,824\n",
            "Non-trainable params: 0\n",
            "_________________________________________________________________\n"
          ]
        }
      ],
      "source": [
        "cnn.summary()"
      ]
    },
    {
      "cell_type": "code",
      "execution_count": null,
      "metadata": {
        "id": "bH7bt2pwQeEa"
      },
      "outputs": [],
      "source": [
        "# we create our own last layers\n",
        "\n",
        "last_output = cnn.output\n",
        "\n",
        "norm = BatchNormalization()(last_output)\n",
        "x = Dropout(0.5)(norm)\n",
        "\n",
        "flat = Flatten()(x) # Flattening the output from the previous layer\n",
        "pred = Dense(1, activation='sigmoid', name='sigmoid')(flat) # we have 2 possibilites: Positive or Negative\n",
        "\n",
        "newcn = Model(inputs=cnn.input, outputs=pred) # concatenates the layers"
      ]
    },
    {
      "cell_type": "code",
      "execution_count": null,
      "metadata": {
        "id": "9P-c6ZU4QeEb"
      },
      "outputs": [],
      "source": [
        "newcn.compile(Adam(lr=0.0001), loss='binary_crossentropy', \n",
        " metrics=['accuracy'])"
      ]
    },
    {
      "cell_type": "code",
      "execution_count": null,
      "metadata": {
        "id": "ZHopNdPdQeEc",
        "colab": {
          "base_uri": "https://localhost:8080/"
        },
        "outputId": "7a130875-b06b-474d-f239-1eff1e996741"
      },
      "outputs": [
        {
          "output_type": "stream",
          "name": "stdout",
          "text": [
            "Epoch 1/100\n",
            "5/5 [==============================] - 85s 14s/step - loss: 0.7115 - accuracy: 0.5714 - val_loss: 0.6897 - val_accuracy: 0.5000\n",
            "Epoch 2/100\n",
            "5/5 [==============================] - 1s 160ms/step - loss: 0.5849 - accuracy: 0.7214 - val_loss: 0.6869 - val_accuracy: 0.5500\n",
            "Epoch 3/100\n",
            "5/5 [==============================] - 1s 207ms/step - loss: 0.6053 - accuracy: 0.6714 - val_loss: 0.6844 - val_accuracy: 0.5250\n",
            "Epoch 4/100\n",
            "5/5 [==============================] - 1s 196ms/step - loss: 0.5603 - accuracy: 0.7143 - val_loss: 0.6834 - val_accuracy: 0.5250\n",
            "Epoch 5/100\n",
            "5/5 [==============================] - 1s 207ms/step - loss: 0.4942 - accuracy: 0.7714 - val_loss: 0.6821 - val_accuracy: 0.5500\n",
            "Epoch 6/100\n",
            "5/5 [==============================] - 1s 162ms/step - loss: 0.5246 - accuracy: 0.7643 - val_loss: 0.6809 - val_accuracy: 0.5500\n",
            "Epoch 7/100\n",
            "5/5 [==============================] - 1s 161ms/step - loss: 0.4930 - accuracy: 0.8000 - val_loss: 0.6792 - val_accuracy: 0.5500\n",
            "Epoch 8/100\n",
            "5/5 [==============================] - 1s 148ms/step - loss: 0.4402 - accuracy: 0.8286 - val_loss: 0.6771 - val_accuracy: 0.5500\n",
            "Epoch 9/100\n",
            "5/5 [==============================] - 1s 150ms/step - loss: 0.4324 - accuracy: 0.8143 - val_loss: 0.6756 - val_accuracy: 0.5750\n",
            "Epoch 10/100\n",
            "5/5 [==============================] - 1s 152ms/step - loss: 0.4219 - accuracy: 0.8000 - val_loss: 0.6747 - val_accuracy: 0.5500\n",
            "Epoch 11/100\n",
            "5/5 [==============================] - 1s 146ms/step - loss: 0.4232 - accuracy: 0.7786 - val_loss: 0.6740 - val_accuracy: 0.6500\n",
            "Epoch 12/100\n",
            "5/5 [==============================] - 1s 149ms/step - loss: 0.4422 - accuracy: 0.7714 - val_loss: 0.6724 - val_accuracy: 0.8000\n",
            "Epoch 13/100\n",
            "5/5 [==============================] - 1s 152ms/step - loss: 0.3458 - accuracy: 0.9143 - val_loss: 0.6685 - val_accuracy: 0.6500\n",
            "Epoch 14/100\n",
            "5/5 [==============================] - 1s 155ms/step - loss: 0.3631 - accuracy: 0.8357 - val_loss: 0.6651 - val_accuracy: 0.6500\n",
            "Epoch 15/100\n",
            "5/5 [==============================] - 1s 147ms/step - loss: 0.3190 - accuracy: 0.8857 - val_loss: 0.6617 - val_accuracy: 0.6500\n",
            "Epoch 16/100\n",
            "5/5 [==============================] - 1s 138ms/step - loss: 0.2961 - accuracy: 0.8929 - val_loss: 0.6586 - val_accuracy: 0.6500\n",
            "Epoch 17/100\n",
            "5/5 [==============================] - 1s 149ms/step - loss: 0.3003 - accuracy: 0.8857 - val_loss: 0.6560 - val_accuracy: 0.7250\n",
            "Epoch 18/100\n",
            "5/5 [==============================] - 1s 146ms/step - loss: 0.2735 - accuracy: 0.8929 - val_loss: 0.6543 - val_accuracy: 0.7750\n",
            "Epoch 19/100\n",
            "5/5 [==============================] - 1s 146ms/step - loss: 0.2820 - accuracy: 0.9143 - val_loss: 0.6501 - val_accuracy: 0.7000\n",
            "Epoch 20/100\n",
            "5/5 [==============================] - 1s 161ms/step - loss: 0.2203 - accuracy: 0.9500 - val_loss: 0.6461 - val_accuracy: 0.8500\n",
            "Epoch 21/100\n",
            "5/5 [==============================] - 1s 165ms/step - loss: 0.2537 - accuracy: 0.9071 - val_loss: 0.6439 - val_accuracy: 0.7750\n",
            "Epoch 22/100\n",
            "5/5 [==============================] - 1s 191ms/step - loss: 0.2222 - accuracy: 0.9429 - val_loss: 0.6414 - val_accuracy: 0.8750\n",
            "Epoch 23/100\n",
            "5/5 [==============================] - 1s 192ms/step - loss: 0.1790 - accuracy: 0.9714 - val_loss: 0.6383 - val_accuracy: 0.8250\n",
            "Epoch 24/100\n",
            "5/5 [==============================] - 1s 165ms/step - loss: 0.1772 - accuracy: 0.9643 - val_loss: 0.6316 - val_accuracy: 0.8750\n",
            "Epoch 25/100\n",
            "5/5 [==============================] - 1s 166ms/step - loss: 0.1771 - accuracy: 0.9714 - val_loss: 0.6258 - val_accuracy: 0.8750\n",
            "Epoch 26/100\n",
            "5/5 [==============================] - 1s 189ms/step - loss: 0.1562 - accuracy: 0.9857 - val_loss: 0.6186 - val_accuracy: 0.8250\n",
            "Epoch 27/100\n",
            "5/5 [==============================] - 1s 159ms/step - loss: 0.1424 - accuracy: 0.9857 - val_loss: 0.6119 - val_accuracy: 0.8250\n",
            "Epoch 28/100\n",
            "5/5 [==============================] - 1s 178ms/step - loss: 0.1119 - accuracy: 1.0000 - val_loss: 0.6055 - val_accuracy: 0.8750\n",
            "Epoch 29/100\n",
            "5/5 [==============================] - 1s 147ms/step - loss: 0.0999 - accuracy: 1.0000 - val_loss: 0.6009 - val_accuracy: 0.8750\n",
            "Epoch 30/100\n",
            "5/5 [==============================] - 1s 174ms/step - loss: 0.0975 - accuracy: 0.9929 - val_loss: 0.5971 - val_accuracy: 0.8500\n",
            "Epoch 31/100\n",
            "5/5 [==============================] - 1s 164ms/step - loss: 0.1005 - accuracy: 0.9786 - val_loss: 0.5925 - val_accuracy: 0.8750\n",
            "Epoch 32/100\n",
            "5/5 [==============================] - 1s 164ms/step - loss: 0.1010 - accuracy: 0.9786 - val_loss: 0.5891 - val_accuracy: 0.8750\n",
            "Epoch 33/100\n",
            "5/5 [==============================] - 1s 157ms/step - loss: 0.0848 - accuracy: 1.0000 - val_loss: 0.5850 - val_accuracy: 0.7750\n",
            "Epoch 34/100\n",
            "5/5 [==============================] - 1s 164ms/step - loss: 0.0741 - accuracy: 1.0000 - val_loss: 0.5801 - val_accuracy: 0.8250\n",
            "Epoch 35/100\n",
            "5/5 [==============================] - 1s 155ms/step - loss: 0.0621 - accuracy: 0.9929 - val_loss: 0.5726 - val_accuracy: 0.8000\n",
            "Epoch 36/100\n",
            "5/5 [==============================] - 1s 158ms/step - loss: 0.0566 - accuracy: 0.9929 - val_loss: 0.5696 - val_accuracy: 0.8250\n",
            "Epoch 37/100\n",
            "5/5 [==============================] - 1s 158ms/step - loss: 0.0579 - accuracy: 1.0000 - val_loss: 0.5613 - val_accuracy: 0.8250\n",
            "Epoch 38/100\n",
            "5/5 [==============================] - 1s 143ms/step - loss: 0.0521 - accuracy: 1.0000 - val_loss: 0.5557 - val_accuracy: 0.8750\n",
            "Epoch 39/100\n",
            "5/5 [==============================] - 1s 162ms/step - loss: 0.0520 - accuracy: 1.0000 - val_loss: 0.5518 - val_accuracy: 0.8250\n",
            "Epoch 40/100\n",
            "5/5 [==============================] - 1s 154ms/step - loss: 0.0496 - accuracy: 0.9929 - val_loss: 0.5489 - val_accuracy: 0.8000\n",
            "Epoch 41/100\n",
            "5/5 [==============================] - 1s 145ms/step - loss: 0.0382 - accuracy: 0.9929 - val_loss: 0.5551 - val_accuracy: 0.7750\n",
            "Epoch 42/100\n",
            "5/5 [==============================] - 1s 154ms/step - loss: 0.0425 - accuracy: 1.0000 - val_loss: 0.5337 - val_accuracy: 0.8000\n",
            "Epoch 43/100\n",
            "5/5 [==============================] - 1s 175ms/step - loss: 0.0426 - accuracy: 1.0000 - val_loss: 0.5269 - val_accuracy: 0.8250\n",
            "Epoch 44/100\n",
            "5/5 [==============================] - 1s 151ms/step - loss: 0.0270 - accuracy: 1.0000 - val_loss: 0.5343 - val_accuracy: 0.8000\n",
            "Epoch 45/100\n",
            "5/5 [==============================] - 1s 145ms/step - loss: 0.0297 - accuracy: 1.0000 - val_loss: 0.5166 - val_accuracy: 0.8250\n",
            "Epoch 46/100\n",
            "5/5 [==============================] - 1s 181ms/step - loss: 0.0407 - accuracy: 0.9929 - val_loss: 0.5116 - val_accuracy: 0.8250\n",
            "Epoch 47/100\n",
            "5/5 [==============================] - 1s 175ms/step - loss: 0.0228 - accuracy: 1.0000 - val_loss: 0.5146 - val_accuracy: 0.8250\n",
            "Epoch 48/100\n",
            "5/5 [==============================] - 1s 154ms/step - loss: 0.0273 - accuracy: 1.0000 - val_loss: 0.5014 - val_accuracy: 0.8250\n",
            "Epoch 49/100\n",
            "5/5 [==============================] - 1s 149ms/step - loss: 0.0208 - accuracy: 1.0000 - val_loss: 0.4988 - val_accuracy: 0.8500\n",
            "Epoch 50/100\n",
            "5/5 [==============================] - 1s 134ms/step - loss: 0.0164 - accuracy: 1.0000 - val_loss: 0.4926 - val_accuracy: 0.8500\n",
            "Epoch 51/100\n",
            "5/5 [==============================] - 1s 160ms/step - loss: 0.0136 - accuracy: 1.0000 - val_loss: 0.4815 - val_accuracy: 0.8750\n",
            "Epoch 52/100\n",
            "5/5 [==============================] - 1s 166ms/step - loss: 0.0135 - accuracy: 1.0000 - val_loss: 0.4750 - val_accuracy: 0.8750\n",
            "Epoch 53/100\n",
            "5/5 [==============================] - 1s 194ms/step - loss: 0.0166 - accuracy: 1.0000 - val_loss: 0.4758 - val_accuracy: 0.8250\n",
            "Epoch 54/100\n",
            "5/5 [==============================] - 1s 181ms/step - loss: 0.0163 - accuracy: 1.0000 - val_loss: 0.4722 - val_accuracy: 0.8250\n",
            "Epoch 55/100\n",
            "5/5 [==============================] - 1s 166ms/step - loss: 0.0125 - accuracy: 1.0000 - val_loss: 0.4674 - val_accuracy: 0.8250\n",
            "Epoch 56/100\n",
            "5/5 [==============================] - 1s 168ms/step - loss: 0.0135 - accuracy: 1.0000 - val_loss: 0.4653 - val_accuracy: 0.8250\n",
            "Epoch 57/100\n",
            "5/5 [==============================] - 1s 176ms/step - loss: 0.0109 - accuracy: 1.0000 - val_loss: 0.4626 - val_accuracy: 0.8250\n",
            "Epoch 58/100\n",
            "5/5 [==============================] - 1s 187ms/step - loss: 0.0184 - accuracy: 1.0000 - val_loss: 0.4467 - val_accuracy: 0.8250\n",
            "Epoch 59/100\n",
            "5/5 [==============================] - 1s 160ms/step - loss: 0.0100 - accuracy: 1.0000 - val_loss: 0.4439 - val_accuracy: 0.8250\n",
            "Epoch 60/100\n",
            "5/5 [==============================] - 1s 157ms/step - loss: 0.0092 - accuracy: 1.0000 - val_loss: 0.4544 - val_accuracy: 0.8250\n",
            "Epoch 61/100\n",
            "5/5 [==============================] - 1s 149ms/step - loss: 0.0086 - accuracy: 1.0000 - val_loss: 0.4531 - val_accuracy: 0.8250\n",
            "Epoch 62/100\n",
            "5/5 [==============================] - 1s 164ms/step - loss: 0.0096 - accuracy: 1.0000 - val_loss: 0.4316 - val_accuracy: 0.8250\n",
            "Epoch 63/100\n",
            "5/5 [==============================] - 1s 169ms/step - loss: 0.0096 - accuracy: 1.0000 - val_loss: 0.4270 - val_accuracy: 0.8250\n",
            "Epoch 64/100\n",
            "5/5 [==============================] - 1s 183ms/step - loss: 0.0071 - accuracy: 1.0000 - val_loss: 0.4302 - val_accuracy: 0.8250\n",
            "Epoch 65/100\n",
            "5/5 [==============================] - 1s 162ms/step - loss: 0.0080 - accuracy: 1.0000 - val_loss: 0.4269 - val_accuracy: 0.8250\n",
            "Epoch 66/100\n",
            "5/5 [==============================] - 1s 142ms/step - loss: 0.0082 - accuracy: 1.0000 - val_loss: 0.4135 - val_accuracy: 0.8250\n",
            "Epoch 67/100\n",
            "5/5 [==============================] - 1s 157ms/step - loss: 0.0083 - accuracy: 1.0000 - val_loss: 0.4057 - val_accuracy: 0.8500\n",
            "Epoch 68/100\n",
            "5/5 [==============================] - 1s 144ms/step - loss: 0.0071 - accuracy: 1.0000 - val_loss: 0.3998 - val_accuracy: 0.8500\n",
            "Epoch 69/100\n",
            "5/5 [==============================] - 1s 160ms/step - loss: 0.0066 - accuracy: 1.0000 - val_loss: 0.3925 - val_accuracy: 0.8500\n",
            "Epoch 70/100\n",
            "5/5 [==============================] - 1s 166ms/step - loss: 0.0059 - accuracy: 1.0000 - val_loss: 0.3840 - val_accuracy: 0.8750\n",
            "Epoch 71/100\n",
            "5/5 [==============================] - 1s 156ms/step - loss: 0.0065 - accuracy: 1.0000 - val_loss: 0.3799 - val_accuracy: 0.9000\n",
            "Epoch 72/100\n",
            "5/5 [==============================] - 1s 147ms/step - loss: 0.0053 - accuracy: 1.0000 - val_loss: 0.3785 - val_accuracy: 0.8500\n",
            "Epoch 73/100\n",
            "5/5 [==============================] - 1s 152ms/step - loss: 0.0051 - accuracy: 1.0000 - val_loss: 0.3698 - val_accuracy: 0.8750\n",
            "Epoch 74/100\n",
            "5/5 [==============================] - 1s 145ms/step - loss: 0.0050 - accuracy: 1.0000 - val_loss: 0.3643 - val_accuracy: 0.9000\n",
            "Epoch 75/100\n",
            "5/5 [==============================] - 1s 147ms/step - loss: 0.0043 - accuracy: 1.0000 - val_loss: 0.3585 - val_accuracy: 0.9000\n",
            "Epoch 76/100\n",
            "5/5 [==============================] - 1s 155ms/step - loss: 0.0041 - accuracy: 1.0000 - val_loss: 0.3565 - val_accuracy: 0.8750\n",
            "Epoch 77/100\n",
            "5/5 [==============================] - 1s 142ms/step - loss: 0.0052 - accuracy: 1.0000 - val_loss: 0.3527 - val_accuracy: 0.9000\n",
            "Epoch 78/100\n",
            "5/5 [==============================] - 1s 153ms/step - loss: 0.0045 - accuracy: 1.0000 - val_loss: 0.3481 - val_accuracy: 0.8750\n",
            "Epoch 79/100\n",
            "5/5 [==============================] - 1s 161ms/step - loss: 0.0044 - accuracy: 1.0000 - val_loss: 0.3432 - val_accuracy: 0.8750\n",
            "Epoch 80/100\n",
            "5/5 [==============================] - 1s 149ms/step - loss: 0.0041 - accuracy: 1.0000 - val_loss: 0.3401 - val_accuracy: 0.8750\n",
            "Epoch 81/100\n",
            "5/5 [==============================] - 1s 158ms/step - loss: 0.0047 - accuracy: 1.0000 - val_loss: 0.3388 - val_accuracy: 0.9000\n",
            "Epoch 82/100\n",
            "5/5 [==============================] - 1s 160ms/step - loss: 0.0040 - accuracy: 1.0000 - val_loss: 0.3376 - val_accuracy: 0.9000\n",
            "Epoch 83/100\n",
            "5/5 [==============================] - 1s 182ms/step - loss: 0.0044 - accuracy: 1.0000 - val_loss: 0.3453 - val_accuracy: 0.8250\n",
            "Epoch 84/100\n",
            "5/5 [==============================] - 1s 166ms/step - loss: 0.0040 - accuracy: 1.0000 - val_loss: 0.3493 - val_accuracy: 0.8250\n",
            "Epoch 85/100\n",
            "5/5 [==============================] - 1s 174ms/step - loss: 0.0033 - accuracy: 1.0000 - val_loss: 0.3467 - val_accuracy: 0.8250\n",
            "Epoch 86/100\n",
            "5/5 [==============================] - 1s 161ms/step - loss: 0.0030 - accuracy: 1.0000 - val_loss: 0.3418 - val_accuracy: 0.8250\n",
            "Epoch 87/100\n",
            "5/5 [==============================] - 1s 157ms/step - loss: 0.0034 - accuracy: 1.0000 - val_loss: 0.3408 - val_accuracy: 0.8250\n",
            "Epoch 88/100\n",
            "5/5 [==============================] - 1s 186ms/step - loss: 0.0032 - accuracy: 1.0000 - val_loss: 0.3410 - val_accuracy: 0.8250\n",
            "Epoch 89/100\n",
            "5/5 [==============================] - 1s 155ms/step - loss: 0.0036 - accuracy: 1.0000 - val_loss: 0.3382 - val_accuracy: 0.8250\n",
            "Epoch 90/100\n",
            "5/5 [==============================] - 1s 188ms/step - loss: 0.0031 - accuracy: 1.0000 - val_loss: 0.3348 - val_accuracy: 0.8250\n",
            "Epoch 91/100\n",
            "5/5 [==============================] - 1s 160ms/step - loss: 0.0030 - accuracy: 1.0000 - val_loss: 0.3279 - val_accuracy: 0.8750\n",
            "Epoch 92/100\n",
            "5/5 [==============================] - 1s 159ms/step - loss: 0.0035 - accuracy: 1.0000 - val_loss: 0.3173 - val_accuracy: 0.9000\n",
            "Epoch 93/100\n",
            "5/5 [==============================] - 1s 143ms/step - loss: 0.0027 - accuracy: 1.0000 - val_loss: 0.3143 - val_accuracy: 0.8750\n",
            "Epoch 94/100\n",
            "5/5 [==============================] - 1s 168ms/step - loss: 0.0029 - accuracy: 1.0000 - val_loss: 0.3158 - val_accuracy: 0.8750\n",
            "Epoch 95/100\n",
            "5/5 [==============================] - 1s 174ms/step - loss: 0.0035 - accuracy: 1.0000 - val_loss: 0.3168 - val_accuracy: 0.9000\n",
            "Epoch 96/100\n",
            "5/5 [==============================] - 1s 190ms/step - loss: 0.0031 - accuracy: 1.0000 - val_loss: 0.3192 - val_accuracy: 0.8750\n",
            "Epoch 97/100\n",
            "5/5 [==============================] - 1s 166ms/step - loss: 0.0030 - accuracy: 1.0000 - val_loss: 0.3247 - val_accuracy: 0.8750\n",
            "Epoch 98/100\n",
            "5/5 [==============================] - 1s 158ms/step - loss: 0.0028 - accuracy: 1.0000 - val_loss: 0.3296 - val_accuracy: 0.8250\n",
            "Epoch 99/100\n",
            "5/5 [==============================] - 1s 149ms/step - loss: 0.0028 - accuracy: 1.0000 - val_loss: 0.3329 - val_accuracy: 0.8250\n",
            "Epoch 100/100\n",
            "5/5 [==============================] - 1s 156ms/step - loss: 0.0027 - accuracy: 1.0000 - val_loss: 0.3337 - val_accuracy: 0.8250\n",
            "\n",
            "\n",
            "Time taken by CNN: 192.45 seconds\n"
          ]
        }
      ],
      "source": [
        "start_time = time.perf_counter()\n",
        "\n",
        "hist1 = newcn.fit(train_batch, batch_size = 32,\n",
        "                  validation_data=val_batch, epochs=100,\n",
        "                  verbose=1)\n",
        "\n",
        "time1 = round(time.perf_counter() - start_time, 2)\n",
        "print (f'\\n\\nTime taken by CNN: {time1} seconds')"
      ]
    },
    {
      "cell_type": "markdown",
      "metadata": {
        "id": "4bn5xEgmJLu_"
      },
      "source": [
        "# VGG16"
      ]
    },
    {
      "cell_type": "code",
      "execution_count": null,
      "metadata": {
        "id": "yKjdbI7VJLvA",
        "colab": {
          "base_uri": "https://localhost:8080/"
        },
        "outputId": "db7123df-7933-4310-c918-8e22dbd61570"
      },
      "outputs": [
        {
          "output_type": "stream",
          "name": "stdout",
          "text": [
            "Downloading data from https://storage.googleapis.com/tensorflow/keras-applications/vgg16/vgg16_weights_tf_dim_ordering_tf_kernels_notop.h5\n",
            "58889256/58889256 [==============================] - 2s 0us/step\n"
          ]
        }
      ],
      "source": [
        "from tensorflow.keras.applications.vgg16 import VGG16\n",
        "vgg = VGG16(input_shape=(224,224,3), weights='imagenet', include_top=False)"
      ]
    },
    {
      "cell_type": "code",
      "execution_count": null,
      "metadata": {
        "id": "mN7-fMN2QeEZ"
      },
      "outputs": [],
      "source": [
        "for layer in vgg.layers:\n",
        "    layer.trainable = False # we dont train the existing weights"
      ]
    },
    {
      "cell_type": "code",
      "execution_count": null,
      "metadata": {
        "id": "-ATUaov0JLvC",
        "colab": {
          "base_uri": "https://localhost:8080/"
        },
        "outputId": "7ece5d5b-606a-445a-e770-a6820e0b8985"
      },
      "outputs": [
        {
          "output_type": "stream",
          "name": "stdout",
          "text": [
            "Model: \"vgg16\"\n",
            "_________________________________________________________________\n",
            " Layer (type)                Output Shape              Param #   \n",
            "=================================================================\n",
            " input_1 (InputLayer)        [(None, 224, 224, 3)]     0         \n",
            "                                                                 \n",
            " block1_conv1 (Conv2D)       (None, 224, 224, 64)      1792      \n",
            "                                                                 \n",
            " block1_conv2 (Conv2D)       (None, 224, 224, 64)      36928     \n",
            "                                                                 \n",
            " block1_pool (MaxPooling2D)  (None, 112, 112, 64)      0         \n",
            "                                                                 \n",
            " block2_conv1 (Conv2D)       (None, 112, 112, 128)     73856     \n",
            "                                                                 \n",
            " block2_conv2 (Conv2D)       (None, 112, 112, 128)     147584    \n",
            "                                                                 \n",
            " block2_pool (MaxPooling2D)  (None, 56, 56, 128)       0         \n",
            "                                                                 \n",
            " block3_conv1 (Conv2D)       (None, 56, 56, 256)       295168    \n",
            "                                                                 \n",
            " block3_conv2 (Conv2D)       (None, 56, 56, 256)       590080    \n",
            "                                                                 \n",
            " block3_conv3 (Conv2D)       (None, 56, 56, 256)       590080    \n",
            "                                                                 \n",
            " block3_pool (MaxPooling2D)  (None, 28, 28, 256)       0         \n",
            "                                                                 \n",
            " block4_conv1 (Conv2D)       (None, 28, 28, 512)       1180160   \n",
            "                                                                 \n",
            " block4_conv2 (Conv2D)       (None, 28, 28, 512)       2359808   \n",
            "                                                                 \n",
            " block4_conv3 (Conv2D)       (None, 28, 28, 512)       2359808   \n",
            "                                                                 \n",
            " block4_pool (MaxPooling2D)  (None, 14, 14, 512)       0         \n",
            "                                                                 \n",
            " block5_conv1 (Conv2D)       (None, 14, 14, 512)       2359808   \n",
            "                                                                 \n",
            " block5_conv2 (Conv2D)       (None, 14, 14, 512)       2359808   \n",
            "                                                                 \n",
            " block5_conv3 (Conv2D)       (None, 14, 14, 512)       2359808   \n",
            "                                                                 \n",
            " block5_pool (MaxPooling2D)  (None, 7, 7, 512)         0         \n",
            "                                                                 \n",
            "=================================================================\n",
            "Total params: 14,714,688\n",
            "Trainable params: 0\n",
            "Non-trainable params: 14,714,688\n",
            "_________________________________________________________________\n"
          ]
        }
      ],
      "source": [
        "vgg.summary()"
      ]
    },
    {
      "cell_type": "code",
      "execution_count": null,
      "metadata": {
        "id": "-xyPOiEBJLvD"
      },
      "outputs": [],
      "source": [
        "# we create our own last layers\n",
        "\n",
        "last_output = vgg.output\n",
        "\n",
        "norm = BatchNormalization()(last_output)\n",
        "x = Dropout(0.5)(norm)\n",
        "\n",
        "flat = Flatten()(x) # Flattening the output from the previous layer\n",
        "pred = Dense(1, activation='sigmoid', name='sigmoid')(flat) # we have 2 possibilites: Positive or Negative\n",
        "\n",
        "newgg = Model(inputs=vgg.input, outputs=pred) # concatenates the layers"
      ]
    },
    {
      "cell_type": "code",
      "execution_count": null,
      "metadata": {
        "id": "6kx9wOZiJLvE"
      },
      "outputs": [],
      "source": [
        "newgg.compile(Adam(lr=0.0001), loss='binary_crossentropy', \n",
        " metrics=['accuracy'])"
      ]
    },
    {
      "cell_type": "code",
      "execution_count": null,
      "metadata": {
        "id": "p--SBTAUJLvE",
        "colab": {
          "base_uri": "https://localhost:8080/"
        },
        "outputId": "ca2a9259-1880-4941-f4dd-9f243080b9f8"
      },
      "outputs": [
        {
          "output_type": "stream",
          "name": "stdout",
          "text": [
            "Epoch 1/100\n",
            "5/5 [==============================] - 15s 3s/step - loss: 0.9662 - accuracy: 0.5500 - val_loss: 0.6915 - val_accuracy: 0.4750\n",
            "Epoch 2/100\n",
            "5/5 [==============================] - 1s 222ms/step - loss: 0.7386 - accuracy: 0.6214 - val_loss: 0.6765 - val_accuracy: 0.5250\n",
            "Epoch 3/100\n",
            "5/5 [==============================] - 1s 245ms/step - loss: 0.8695 - accuracy: 0.5714 - val_loss: 0.6702 - val_accuracy: 0.5250\n",
            "Epoch 4/100\n",
            "5/5 [==============================] - 1s 216ms/step - loss: 0.6899 - accuracy: 0.6429 - val_loss: 0.6562 - val_accuracy: 0.5750\n",
            "Epoch 5/100\n",
            "5/5 [==============================] - 1s 221ms/step - loss: 0.6520 - accuracy: 0.6500 - val_loss: 0.6367 - val_accuracy: 0.6750\n",
            "Epoch 6/100\n",
            "5/5 [==============================] - 1s 222ms/step - loss: 0.5739 - accuracy: 0.7214 - val_loss: 0.6221 - val_accuracy: 0.7250\n",
            "Epoch 7/100\n",
            "5/5 [==============================] - 1s 227ms/step - loss: 0.5525 - accuracy: 0.6857 - val_loss: 0.6169 - val_accuracy: 0.7250\n",
            "Epoch 8/100\n",
            "5/5 [==============================] - 1s 211ms/step - loss: 0.4864 - accuracy: 0.7786 - val_loss: 0.6117 - val_accuracy: 0.7250\n",
            "Epoch 9/100\n",
            "5/5 [==============================] - 1s 212ms/step - loss: 0.5123 - accuracy: 0.7500 - val_loss: 0.5949 - val_accuracy: 0.6750\n",
            "Epoch 10/100\n",
            "5/5 [==============================] - 1s 222ms/step - loss: 0.5084 - accuracy: 0.7429 - val_loss: 0.5832 - val_accuracy: 0.6500\n",
            "Epoch 11/100\n",
            "5/5 [==============================] - 1s 214ms/step - loss: 0.5394 - accuracy: 0.7571 - val_loss: 0.5764 - val_accuracy: 0.6500\n",
            "Epoch 12/100\n",
            "5/5 [==============================] - 1s 243ms/step - loss: 0.5299 - accuracy: 0.7214 - val_loss: 0.5652 - val_accuracy: 0.7250\n",
            "Epoch 13/100\n",
            "5/5 [==============================] - 1s 209ms/step - loss: 0.5691 - accuracy: 0.7071 - val_loss: 0.5581 - val_accuracy: 0.7500\n",
            "Epoch 14/100\n",
            "5/5 [==============================] - 1s 209ms/step - loss: 0.4028 - accuracy: 0.7857 - val_loss: 0.5524 - val_accuracy: 0.7500\n",
            "Epoch 15/100\n",
            "5/5 [==============================] - 1s 207ms/step - loss: 0.3730 - accuracy: 0.8571 - val_loss: 0.5475 - val_accuracy: 0.7750\n",
            "Epoch 16/100\n",
            "5/5 [==============================] - 1s 242ms/step - loss: 0.4659 - accuracy: 0.7714 - val_loss: 0.5423 - val_accuracy: 0.7500\n",
            "Epoch 17/100\n",
            "5/5 [==============================] - 1s 246ms/step - loss: 0.3426 - accuracy: 0.8786 - val_loss: 0.5352 - val_accuracy: 0.7750\n",
            "Epoch 18/100\n",
            "5/5 [==============================] - 1s 221ms/step - loss: 0.3605 - accuracy: 0.8000 - val_loss: 0.5345 - val_accuracy: 0.8000\n",
            "Epoch 19/100\n",
            "5/5 [==============================] - 1s 218ms/step - loss: 0.3957 - accuracy: 0.8214 - val_loss: 0.5287 - val_accuracy: 0.8250\n",
            "Epoch 20/100\n",
            "5/5 [==============================] - 1s 211ms/step - loss: 0.4032 - accuracy: 0.8214 - val_loss: 0.5231 - val_accuracy: 0.7750\n",
            "Epoch 21/100\n",
            "5/5 [==============================] - 1s 224ms/step - loss: 0.3623 - accuracy: 0.8500 - val_loss: 0.5211 - val_accuracy: 0.8250\n",
            "Epoch 22/100\n",
            "5/5 [==============================] - 1s 225ms/step - loss: 0.3508 - accuracy: 0.8571 - val_loss: 0.5178 - val_accuracy: 0.8000\n",
            "Epoch 23/100\n",
            "5/5 [==============================] - 1s 229ms/step - loss: 0.3938 - accuracy: 0.8071 - val_loss: 0.5138 - val_accuracy: 0.8000\n",
            "Epoch 24/100\n",
            "5/5 [==============================] - 1s 230ms/step - loss: 0.3061 - accuracy: 0.8643 - val_loss: 0.5142 - val_accuracy: 0.7500\n",
            "Epoch 25/100\n",
            "5/5 [==============================] - 1s 231ms/step - loss: 0.3195 - accuracy: 0.8571 - val_loss: 0.5100 - val_accuracy: 0.7500\n",
            "Epoch 26/100\n",
            "5/5 [==============================] - 1s 249ms/step - loss: 0.3218 - accuracy: 0.8500 - val_loss: 0.5004 - val_accuracy: 0.7500\n",
            "Epoch 27/100\n",
            "5/5 [==============================] - 1s 216ms/step - loss: 0.3057 - accuracy: 0.8714 - val_loss: 0.4971 - val_accuracy: 0.7500\n",
            "Epoch 28/100\n",
            "5/5 [==============================] - 1s 249ms/step - loss: 0.2934 - accuracy: 0.8857 - val_loss: 0.4873 - val_accuracy: 0.8000\n",
            "Epoch 29/100\n",
            "5/5 [==============================] - 1s 220ms/step - loss: 0.3117 - accuracy: 0.8786 - val_loss: 0.4772 - val_accuracy: 0.8500\n",
            "Epoch 30/100\n",
            "5/5 [==============================] - 1s 228ms/step - loss: 0.2809 - accuracy: 0.9000 - val_loss: 0.4742 - val_accuracy: 0.8250\n",
            "Epoch 31/100\n",
            "5/5 [==============================] - 1s 215ms/step - loss: 0.2633 - accuracy: 0.9000 - val_loss: 0.4802 - val_accuracy: 0.7750\n",
            "Epoch 32/100\n",
            "5/5 [==============================] - 1s 251ms/step - loss: 0.3095 - accuracy: 0.8500 - val_loss: 0.4818 - val_accuracy: 0.7500\n",
            "Epoch 33/100\n",
            "5/5 [==============================] - 1s 224ms/step - loss: 0.2873 - accuracy: 0.8786 - val_loss: 0.4578 - val_accuracy: 0.8500\n",
            "Epoch 34/100\n",
            "5/5 [==============================] - 1s 222ms/step - loss: 0.2481 - accuracy: 0.9000 - val_loss: 0.4515 - val_accuracy: 0.9000\n",
            "Epoch 35/100\n",
            "5/5 [==============================] - 1s 221ms/step - loss: 0.2214 - accuracy: 0.9357 - val_loss: 0.4562 - val_accuracy: 0.8250\n",
            "Epoch 36/100\n",
            "5/5 [==============================] - 1s 224ms/step - loss: 0.2105 - accuracy: 0.9286 - val_loss: 0.4634 - val_accuracy: 0.8000\n",
            "Epoch 37/100\n",
            "5/5 [==============================] - 1s 222ms/step - loss: 0.2206 - accuracy: 0.9143 - val_loss: 0.4591 - val_accuracy: 0.8000\n",
            "Epoch 38/100\n",
            "5/5 [==============================] - 1s 210ms/step - loss: 0.2489 - accuracy: 0.8786 - val_loss: 0.4368 - val_accuracy: 0.8500\n",
            "Epoch 39/100\n",
            "5/5 [==============================] - 1s 218ms/step - loss: 0.2188 - accuracy: 0.9286 - val_loss: 0.4296 - val_accuracy: 0.8500\n",
            "Epoch 40/100\n",
            "5/5 [==============================] - 1s 208ms/step - loss: 0.2530 - accuracy: 0.9143 - val_loss: 0.4282 - val_accuracy: 0.8500\n",
            "Epoch 41/100\n",
            "5/5 [==============================] - 1s 215ms/step - loss: 0.2076 - accuracy: 0.9357 - val_loss: 0.4246 - val_accuracy: 0.8250\n",
            "Epoch 42/100\n",
            "5/5 [==============================] - 1s 217ms/step - loss: 0.2202 - accuracy: 0.9357 - val_loss: 0.4195 - val_accuracy: 0.8250\n",
            "Epoch 43/100\n",
            "5/5 [==============================] - 1s 238ms/step - loss: 0.1873 - accuracy: 0.9357 - val_loss: 0.4226 - val_accuracy: 0.8500\n",
            "Epoch 44/100\n",
            "5/5 [==============================] - 1s 212ms/step - loss: 0.1842 - accuracy: 0.9357 - val_loss: 0.4204 - val_accuracy: 0.8500\n",
            "Epoch 45/100\n",
            "5/5 [==============================] - 1s 238ms/step - loss: 0.2029 - accuracy: 0.9286 - val_loss: 0.4161 - val_accuracy: 0.8250\n",
            "Epoch 46/100\n",
            "5/5 [==============================] - 1s 210ms/step - loss: 0.1651 - accuracy: 0.9714 - val_loss: 0.4079 - val_accuracy: 0.8250\n",
            "Epoch 47/100\n",
            "5/5 [==============================] - 1s 223ms/step - loss: 0.1794 - accuracy: 0.9286 - val_loss: 0.4018 - val_accuracy: 0.8250\n",
            "Epoch 48/100\n",
            "5/5 [==============================] - 1s 226ms/step - loss: 0.1936 - accuracy: 0.9214 - val_loss: 0.3993 - val_accuracy: 0.8250\n",
            "Epoch 49/100\n",
            "5/5 [==============================] - 1s 224ms/step - loss: 0.1946 - accuracy: 0.9429 - val_loss: 0.4240 - val_accuracy: 0.8500\n",
            "Epoch 50/100\n",
            "5/5 [==============================] - 1s 223ms/step - loss: 0.1749 - accuracy: 0.9357 - val_loss: 0.4041 - val_accuracy: 0.8500\n",
            "Epoch 51/100\n",
            "5/5 [==============================] - 1s 221ms/step - loss: 0.1553 - accuracy: 0.9643 - val_loss: 0.3824 - val_accuracy: 0.8750\n",
            "Epoch 52/100\n",
            "5/5 [==============================] - 1s 219ms/step - loss: 0.1997 - accuracy: 0.9071 - val_loss: 0.3778 - val_accuracy: 0.8750\n",
            "Epoch 53/100\n",
            "5/5 [==============================] - 1s 213ms/step - loss: 0.1633 - accuracy: 0.9643 - val_loss: 0.3774 - val_accuracy: 0.8750\n",
            "Epoch 54/100\n",
            "5/5 [==============================] - 1s 225ms/step - loss: 0.1596 - accuracy: 0.9500 - val_loss: 0.3749 - val_accuracy: 0.8750\n",
            "Epoch 55/100\n",
            "5/5 [==============================] - 1s 221ms/step - loss: 0.1398 - accuracy: 0.9929 - val_loss: 0.3787 - val_accuracy: 0.8500\n",
            "Epoch 56/100\n",
            "5/5 [==============================] - 1s 243ms/step - loss: 0.1632 - accuracy: 0.9571 - val_loss: 0.3726 - val_accuracy: 0.8500\n",
            "Epoch 57/100\n",
            "5/5 [==============================] - 1s 226ms/step - loss: 0.1410 - accuracy: 0.9643 - val_loss: 0.3655 - val_accuracy: 0.9000\n",
            "Epoch 58/100\n",
            "5/5 [==============================] - 1s 244ms/step - loss: 0.1251 - accuracy: 0.9786 - val_loss: 0.3598 - val_accuracy: 0.9000\n",
            "Epoch 59/100\n",
            "5/5 [==============================] - 1s 217ms/step - loss: 0.1713 - accuracy: 0.9286 - val_loss: 0.3636 - val_accuracy: 0.8750\n",
            "Epoch 60/100\n",
            "5/5 [==============================] - 1s 242ms/step - loss: 0.1336 - accuracy: 0.9786 - val_loss: 0.3751 - val_accuracy: 0.8500\n",
            "Epoch 61/100\n",
            "5/5 [==============================] - 1s 217ms/step - loss: 0.1270 - accuracy: 0.9643 - val_loss: 0.3818 - val_accuracy: 0.8500\n",
            "Epoch 62/100\n",
            "5/5 [==============================] - 1s 218ms/step - loss: 0.1308 - accuracy: 0.9643 - val_loss: 0.3639 - val_accuracy: 0.8750\n",
            "Epoch 63/100\n",
            "5/5 [==============================] - 1s 241ms/step - loss: 0.1481 - accuracy: 0.9429 - val_loss: 0.3537 - val_accuracy: 0.9000\n",
            "Epoch 64/100\n",
            "5/5 [==============================] - 1s 237ms/step - loss: 0.1383 - accuracy: 0.9786 - val_loss: 0.3506 - val_accuracy: 0.9000\n",
            "Epoch 65/100\n",
            "5/5 [==============================] - 1s 240ms/step - loss: 0.1364 - accuracy: 0.9643 - val_loss: 0.3661 - val_accuracy: 0.8500\n",
            "Epoch 66/100\n",
            "5/5 [==============================] - 1s 213ms/step - loss: 0.1210 - accuracy: 0.9571 - val_loss: 0.3473 - val_accuracy: 0.9000\n",
            "Epoch 67/100\n",
            "5/5 [==============================] - 1s 216ms/step - loss: 0.1543 - accuracy: 0.9643 - val_loss: 0.3333 - val_accuracy: 0.9250\n",
            "Epoch 68/100\n",
            "5/5 [==============================] - 1s 239ms/step - loss: 0.1200 - accuracy: 0.9643 - val_loss: 0.3370 - val_accuracy: 0.9250\n",
            "Epoch 69/100\n",
            "5/5 [==============================] - 1s 239ms/step - loss: 0.1142 - accuracy: 0.9786 - val_loss: 0.3328 - val_accuracy: 0.9250\n",
            "Epoch 70/100\n",
            "5/5 [==============================] - 1s 209ms/step - loss: 0.1071 - accuracy: 0.9786 - val_loss: 0.3278 - val_accuracy: 0.9250\n",
            "Epoch 71/100\n",
            "5/5 [==============================] - 1s 246ms/step - loss: 0.1072 - accuracy: 0.9929 - val_loss: 0.3332 - val_accuracy: 0.9000\n",
            "Epoch 72/100\n",
            "5/5 [==============================] - 1s 226ms/step - loss: 0.1288 - accuracy: 0.9643 - val_loss: 0.3259 - val_accuracy: 0.9250\n",
            "Epoch 73/100\n",
            "5/5 [==============================] - 1s 232ms/step - loss: 0.1112 - accuracy: 0.9643 - val_loss: 0.3187 - val_accuracy: 0.9500\n",
            "Epoch 74/100\n",
            "5/5 [==============================] - 1s 225ms/step - loss: 0.1050 - accuracy: 0.9857 - val_loss: 0.3180 - val_accuracy: 0.9500\n",
            "Epoch 75/100\n",
            "5/5 [==============================] - 1s 228ms/step - loss: 0.1112 - accuracy: 0.9786 - val_loss: 0.3222 - val_accuracy: 0.9250\n",
            "Epoch 76/100\n",
            "5/5 [==============================] - 1s 226ms/step - loss: 0.1043 - accuracy: 0.9786 - val_loss: 0.3312 - val_accuracy: 0.9000\n",
            "Epoch 77/100\n",
            "5/5 [==============================] - 1s 215ms/step - loss: 0.1167 - accuracy: 0.9643 - val_loss: 0.3195 - val_accuracy: 0.9250\n",
            "Epoch 78/100\n",
            "5/5 [==============================] - 1s 210ms/step - loss: 0.0810 - accuracy: 0.9929 - val_loss: 0.3105 - val_accuracy: 0.9250\n",
            "Epoch 79/100\n",
            "5/5 [==============================] - 1s 211ms/step - loss: 0.0967 - accuracy: 0.9857 - val_loss: 0.3089 - val_accuracy: 0.9250\n",
            "Epoch 80/100\n",
            "5/5 [==============================] - 1s 247ms/step - loss: 0.1394 - accuracy: 0.9500 - val_loss: 0.3119 - val_accuracy: 0.9500\n",
            "Epoch 81/100\n",
            "5/5 [==============================] - 1s 223ms/step - loss: 0.1146 - accuracy: 0.9786 - val_loss: 0.3209 - val_accuracy: 0.9250\n",
            "Epoch 82/100\n",
            "5/5 [==============================] - 1s 222ms/step - loss: 0.1025 - accuracy: 0.9786 - val_loss: 0.3185 - val_accuracy: 0.9250\n",
            "Epoch 83/100\n",
            "5/5 [==============================] - 1s 222ms/step - loss: 0.1098 - accuracy: 0.9714 - val_loss: 0.3104 - val_accuracy: 0.9250\n",
            "Epoch 84/100\n",
            "5/5 [==============================] - 1s 209ms/step - loss: 0.0843 - accuracy: 1.0000 - val_loss: 0.3045 - val_accuracy: 0.9250\n",
            "Epoch 85/100\n",
            "5/5 [==============================] - 1s 248ms/step - loss: 0.1192 - accuracy: 0.9643 - val_loss: 0.3110 - val_accuracy: 0.9250\n",
            "Epoch 86/100\n",
            "5/5 [==============================] - 1s 243ms/step - loss: 0.1125 - accuracy: 0.9643 - val_loss: 0.3060 - val_accuracy: 0.9500\n",
            "Epoch 87/100\n",
            "5/5 [==============================] - 1s 223ms/step - loss: 0.1084 - accuracy: 0.9786 - val_loss: 0.3037 - val_accuracy: 0.9500\n",
            "Epoch 88/100\n",
            "5/5 [==============================] - 1s 213ms/step - loss: 0.0877 - accuracy: 0.9929 - val_loss: 0.3039 - val_accuracy: 0.9500\n",
            "Epoch 89/100\n",
            "5/5 [==============================] - 1s 216ms/step - loss: 0.0872 - accuracy: 0.9929 - val_loss: 0.3076 - val_accuracy: 0.9500\n",
            "Epoch 90/100\n",
            "5/5 [==============================] - 1s 215ms/step - loss: 0.0761 - accuracy: 0.9857 - val_loss: 0.3067 - val_accuracy: 0.9500\n",
            "Epoch 91/100\n",
            "5/5 [==============================] - 1s 218ms/step - loss: 0.0612 - accuracy: 0.9929 - val_loss: 0.3020 - val_accuracy: 0.9500\n",
            "Epoch 92/100\n",
            "5/5 [==============================] - 1s 223ms/step - loss: 0.0855 - accuracy: 0.9857 - val_loss: 0.2956 - val_accuracy: 0.9250\n",
            "Epoch 93/100\n",
            "5/5 [==============================] - 1s 216ms/step - loss: 0.0827 - accuracy: 0.9857 - val_loss: 0.2952 - val_accuracy: 0.9250\n",
            "Epoch 94/100\n",
            "5/5 [==============================] - 1s 242ms/step - loss: 0.0719 - accuracy: 0.9929 - val_loss: 0.2956 - val_accuracy: 0.9250\n",
            "Epoch 95/100\n",
            "5/5 [==============================] - 1s 245ms/step - loss: 0.0701 - accuracy: 1.0000 - val_loss: 0.2957 - val_accuracy: 0.9250\n",
            "Epoch 96/100\n",
            "5/5 [==============================] - 1s 215ms/step - loss: 0.0706 - accuracy: 0.9929 - val_loss: 0.3009 - val_accuracy: 0.9500\n",
            "Epoch 97/100\n",
            "5/5 [==============================] - 1s 257ms/step - loss: 0.0776 - accuracy: 0.9929 - val_loss: 0.3045 - val_accuracy: 0.9500\n",
            "Epoch 98/100\n",
            "5/5 [==============================] - 1s 250ms/step - loss: 0.0814 - accuracy: 0.9857 - val_loss: 0.2976 - val_accuracy: 0.9250\n",
            "Epoch 99/100\n",
            "5/5 [==============================] - 1s 228ms/step - loss: 0.0801 - accuracy: 0.9929 - val_loss: 0.2940 - val_accuracy: 0.9250\n",
            "Epoch 100/100\n",
            "5/5 [==============================] - 1s 213ms/step - loss: 0.0640 - accuracy: 0.9929 - val_loss: 0.2928 - val_accuracy: 0.9250\n",
            "\n",
            "\n",
            "Time taken by VGG16: 130.03 seconds\n"
          ]
        }
      ],
      "source": [
        "start_time = time.perf_counter()\n",
        "\n",
        "hist2 = newgg.fit(train_batch,\n",
        "                      validation_data=val_batch, epochs=100,\n",
        "                      verbose=1)\n",
        "\n",
        "time1 = round(time.perf_counter() - start_time, 2)\n",
        "print (f'\\n\\nTime taken by VGG16: {time1} seconds')"
      ]
    },
    {
      "cell_type": "markdown",
      "metadata": {
        "id": "SgsWL3XQQeEe"
      },
      "source": [
        "# Accuracy Comparison"
      ]
    },
    {
      "cell_type": "code",
      "execution_count": null,
      "metadata": {
        "id": "c4tNeHRrQeEf",
        "colab": {
          "base_uri": "https://localhost:8080/",
          "height": 624
        },
        "outputId": "af20d9d4-6bf3-470e-cb74-0641d8538d9d"
      },
      "outputs": [
        {
          "output_type": "execute_result",
          "data": {
            "text/plain": [
              "<matplotlib.legend.Legend at 0x7f89e45dbdf0>"
            ]
          },
          "metadata": {},
          "execution_count": 16
        },
        {
          "output_type": "display_data",
          "data": {
            "text/plain": [
              "<Figure size 1080x720 with 4 Axes>"
            ],
            "image/png": "[encoded data removed]"
          },
          "metadata": {
            "needs_background": "light"
          }
        }
      ],
      "source": [
        "fig, axs = plt.subplots(2, 2, figsize=[15, 10])\n",
        "\n",
        "axs[0,0].plot(hist1.history['loss'], label='train loss')\n",
        "axs[0,0].plot(hist1.history['val_loss'], label='val loss')\n",
        "axs[0,0].set_title('CNN')\n",
        "axs[0,0].legend()\n",
        "\n",
        "axs[1,0].plot(hist1.history['accuracy'], label='train acc')\n",
        "axs[1,0].plot(hist1.history['val_accuracy'], label='val acc')\n",
        "axs[1,0].legend()\n",
        "\n",
        "axs[0,1].plot(hist2.history['loss'], label='train loss')\n",
        "axs[0,1].plot(hist2.history['val_loss'], label='val loss')\n",
        "axs[0,1].set_title('VGG16')\n",
        "axs[0,1].legend()\n",
        "\n",
        "axs[1,1].plot(hist2.history['accuracy'], label='train acc')\n",
        "axs[1,1].plot(hist2.history['val_accuracy'], label='val acc')\n",
        "axs[1,1].legend()"
      ]
    },
    {
      "cell_type": "code",
      "execution_count": null,
      "metadata": {
        "id": "INwgPhWngJcX",
        "colab": {
          "base_uri": "https://localhost:8080/"
        },
        "outputId": "eaa33cf2-f0a6-4fb2-c956-161164c5dfdc"
      },
      "outputs": [
        {
          "output_type": "stream",
          "name": "stdout",
          "text": [
            "0.9582142871618271\n",
            "0.8009999942779541\n",
            "0.11478844987461344\n",
            "0.49575507402420044\n",
            "0.9037857156991959\n",
            "0.8402500012516976\n",
            "0.24266843374818564\n",
            "0.4201069700717926\n"
          ]
        }
      ],
      "source": [
        "import numpy as np\n",
        "from tensorflow import keras\n",
        "\n",
        "print (np.mean(hist1.history['accuracy']))\n",
        "print (np.mean(hist1.history['val_accuracy']))\n",
        "print (np.mean(hist1.history['loss']))\n",
        "print (np.mean(hist1.history['val_loss']))\n",
        "\n",
        "print (np.mean(hist2.history['accuracy']))\n",
        "print (np.mean(hist2.history['val_accuracy']))\n",
        "print (np.mean(hist2.history['loss']))\n",
        "print (np.mean(hist2.history['val_loss']))"
      ]
    },
    {
      "cell_type": "code",
      "execution_count": null,
      "metadata": {
        "id": "fEgRIaREt6mx",
        "colab": {
          "base_uri": "https://localhost:8080/"
        },
        "outputId": "fe39f490-c917-417b-dce3-3cd58e9860a8"
      },
      "outputs": [
        {
          "output_type": "stream",
          "name": "stdout",
          "text": [
            "{'Kanker': 0, 'Normal': 1}\n"
          ]
        }
      ],
      "source": [
        "class_names = ['Kanker','Normal']\n",
        "class_names_label = {class_name:i for i, class_name in enumerate(class_names)}\n",
        "\n",
        "nb_classes = len(class_names)\n",
        "\n",
        "print(class_names_label)"
      ]
    },
    {
      "cell_type": "code",
      "execution_count": null,
      "metadata": {
        "id": "hJfERo83uHmf"
      },
      "outputs": [],
      "source": [
        "import itertools\n",
        "\n",
        "#Plot the confusion matrix. Set Normalize = True/False\n",
        "def plot_confusion_matrix(cm, classes, normalize=True, title='Confusion matrix', cmap=plt.cm.Blues):\n",
        "    \"\"\"\n",
        "    This function prints and plots the confusion matrix.\n",
        "    Normalization can be applied by setting `normalize=True`.\n",
        "    \"\"\"\n",
        "    plt.figure(figsize=(10,10))\n",
        "    plt.imshow(cm, interpolation='nearest', cmap=cmap)\n",
        "    plt.title(title)\n",
        "    plt.colorbar()\n",
        "    tick_marks = np.arange(len(class_names_label))\n",
        "    plt.xticks(tick_marks, class_names_label, rotation=45)\n",
        "    plt.yticks(tick_marks, class_names_label)\n",
        "    if normalize:\n",
        "        cm = cm.astype('float') / cm.sum(axis=1)[:, np.newaxis]\n",
        "        cm = np.around(cm, decimals=2)\n",
        "        cm[np.isnan(cm)] = 0.0\n",
        "    thresh = cm.max() / 2.\n",
        "    for i, j in itertools.product(range(cm.shape[0]), range(cm.shape[1])):\n",
        "        plt.text(j, i, cm[i, j],\n",
        "                 horizontalalignment=\"center\",\n",
        "                 color=\"white\" if cm[i, j] > thresh else \"black\")\n",
        "    plt.tight_layout()\n",
        "    plt.ylabel('True label')\n",
        "    plt.xlabel('Predicted label')"
      ]
    },
    {
      "cell_type": "code",
      "execution_count": null,
      "metadata": {
        "id": "tJbfI396upq6",
        "colab": {
          "base_uri": "https://localhost:8080/",
          "height": 746
        },
        "outputId": "2e3cae5a-b156-416c-987c-44cad2574478"
      },
      "outputs": [
        {
          "output_type": "stream",
          "name": "stdout",
          "text": [
            "2/2 [==============================] - 0s 153ms/step\n"
          ]
        },
        {
          "output_type": "display_data",
          "data": {
            "text/plain": [
              "<Figure size 720x720 with 2 Axes>"
            ],
            "image/png": "[encoded data removed]"
          },
          "metadata": {
            "needs_background": "light"
          }
        }
      ],
      "source": [
        "from sklearn.metrics import confusion_matrix\n",
        "import numpy as np\n",
        "\n",
        "#On test dataset\n",
        "Y_pred = newgg.predict(val_batch)\n",
        "y_pred = np.argmax(Y_pred, axis=1)\n",
        "target_names = class_names_label\n",
        "\n",
        "#Confution Matrix\n",
        "cm = confusion_matrix(val_batch.classes, y_pred)\n",
        "plot_confusion_matrix(cm, target_names, normalize=False, title='Confusion Matrix')\n",
        "\n",
        "plt.show()"
      ]
    },
    {
      "cell_type": "code",
      "execution_count": null,
      "metadata": {
        "id": "pPSNYmOHzCDs",
        "colab": {
          "base_uri": "https://localhost:8080/",
          "height": 903
        },
        "outputId": "5e8ff88d-29cb-4e13-f5c2-c9193461dadf"
      },
      "outputs": [
        {
          "output_type": "stream",
          "name": "stdout",
          "text": [
            "2/2 [==============================] - 0s 32ms/step\n",
            "              precision    recall  f1-score   support\n",
            "\n",
            "      Kanker       0.50      1.00      0.67        20\n",
            "      Normal       0.00      0.00      0.00        20\n",
            "\n",
            "    accuracy                           0.50        40\n",
            "   macro avg       0.25      0.50      0.33        40\n",
            "weighted avg       0.25      0.50      0.33        40\n",
            "\n"
          ]
        },
        {
          "output_type": "display_data",
          "data": {
            "text/plain": [
              "<Figure size 720x720 with 2 Axes>"
            ],
            "image/png": "[encoded data removed]"
          },
          "metadata": {
            "needs_background": "light"
          }
        }
      ],
      "source": [
        "# Some reports\n",
        "from sklearn.metrics import confusion_matrix, classification_report\n",
        "import numpy as np\n",
        "\n",
        "#On test dataset\n",
        "Y_pred = newcn.predict(val_batch)\n",
        "y_pred = np.argmax(Y_pred, axis=1)\n",
        "target_names = class_names_label\n",
        "\n",
        "#Confution Matrix\n",
        "cm = confusion_matrix(val_batch.classes, y_pred)\n",
        "plot_confusion_matrix(cm, target_names, normalize=False, title='Confusion Matrix')\n",
        "\n",
        "print(classification_report(val_batch.classes, y_pred, target_names=target_names))"
      ]
    }
  ],
  "metadata": {
    "accelerator": "GPU",
    "colab": {
      "provenance": [],
      "include_colab_link": true
    },
    "gpuClass": "standard",
    "kernelspec": {
      "display_name": "Python 3",
      "language": "python",
      "name": "python3"
    },
    "language_info": {
      "codemirror_mode": {
        "name": "ipython",
        "version": 3
      },
      "file_extension": ".py",
      "mimetype": "text/x-python",
      "name": "python",
      "nbconvert_exporter": "python",
      "pygments_lexer": "ipython3",
      "version": "3.7.12"
    }
  },
  "nbformat": 4,
  "nbformat_minor": 0
}